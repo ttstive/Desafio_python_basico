{
 "cells": [
  {
   "cell_type": "code",
   "execution_count": 17,
   "metadata": {},
   "outputs": [
    {
     "name": "stdout",
     "output_type": "stream",
     "text": [
      "O alarme disparou no teste.\n",
      "O alarme disparou no teste.\n",
      "O alarme disparou no teste.\n",
      "O alarme não disparou no teste.\n",
      "O alarme não disparou no teste.\n",
      "O alarme não disparou no teste.\n"
     ]
    }
   ],
   "source": [
    "\n",
    "\n",
    "def verifica_incendio(teste, teste2):\n",
    "    sensores = [1, 0, 1]\n",
    "\n",
    "    for sensor in teste:\n",
    "        if 1 in teste:\n",
    "            print(\"O alarme disparou no teste.\")\n",
    "        else:\n",
    "            print(\"O alarme não disparou no teste.\")\n",
    "\n",
    "    for sensor in teste2:\n",
    "       if 1 in teste2:\n",
    "           print(\"O alarme disparou no teste.\")\n",
    "       else:\n",
    "           print(\"O alarme não disparou no teste.\")\n",
    "\n",
    "\n",
    "teste = [1, 0, 1]\n",
    "teste2 = [0,0,0]\n",
    "verifica_incendio(teste, teste2)\n",
    "\n"
   ]
  },
  {
   "cell_type": "markdown",
   "metadata": {},
   "source": [
    "# Tuplas, listas imutaveis, parecidos com listas, cuidado para nao confundir "
   ]
  },
  {
   "cell_type": "code",
   "execution_count": 35,
   "metadata": {},
   "outputs": [],
   "source": [
    "nome = [\"Estevão\",]\n",
    "fatiamento_nome = tuple([\"E\",\"s\",\"t\",\"e\", \"V\",\"Â\",\"O\"])"
   ]
  },
  {
   "cell_type": "code",
   "execution_count": 36,
   "metadata": {},
   "outputs": [
    {
     "name": "stdout",
     "output_type": "stream",
     "text": [
      "('s', 't', 'e', 'V', 'Â', 'O')\n",
      "('E', 't')\n",
      "('Â', 'O')\n"
     ]
    }
   ],
   "source": [
    "print(fatiamento_nome[1:])\n",
    "print(fatiamento_nome[0:3:2])\n",
    "print(fatiamento_nome[5:])"
   ]
  },
  {
   "cell_type": "code",
   "execution_count": 37,
   "metadata": {},
   "outputs": [
    {
     "ename": "TypeError",
     "evalue": "'types.GenericAlias' object does not support item assignment",
     "output_type": "error",
     "traceback": [
      "\u001b[0;31m---------------------------------------------------------------------------\u001b[0m",
      "\u001b[0;31mTypeError\u001b[0m                                 Traceback (most recent call last)",
      "\u001b[0;32m/tmp/ipykernel_9987/763551232.py\u001b[0m in \u001b[0;36m<module>\u001b[0;34m\u001b[0m\n\u001b[1;32m      1\u001b[0m \u001b[0mnome\u001b[0m \u001b[0;34m=\u001b[0m \u001b[0mtuple\u001b[0m\u001b[0;34m[\u001b[0m\u001b[0;34m\"joao\"\u001b[0m\u001b[0;34m,\u001b[0m\u001b[0;34m]\u001b[0m\u001b[0;34m\u001b[0m\u001b[0;34m\u001b[0m\u001b[0m\n\u001b[0;32m----> 2\u001b[0;31m \u001b[0mnome\u001b[0m\u001b[0;34m[\u001b[0m\u001b[0;36m0\u001b[0m\u001b[0;34m]\u001b[0m \u001b[0;34m=\u001b[0m \u001b[0;34m\"lucas\"\u001b[0m\u001b[0;34m\u001b[0m\u001b[0;34m\u001b[0m\u001b[0m\n\u001b[0m",
      "\u001b[0;31mTypeError\u001b[0m: 'types.GenericAlias' object does not support item assignment"
     ]
    }
   ],
   "source": [
    "nome = tuple[\"joao\",]\n",
    "nome[0] = \"lucas\""
   ]
  },
  {
   "cell_type": "code",
   "execution_count": 38,
   "metadata": {},
   "outputs": [
    {
     "ename": "TypeError",
     "evalue": "'tuple' object does not support item assignment",
     "output_type": "error",
     "traceback": [
      "\u001b[0;31m---------------------------------------------------------------------------\u001b[0m",
      "\u001b[0;31mTypeError\u001b[0m                                 Traceback (most recent call last)",
      "\u001b[0;32m/tmp/ipykernel_9987/1522011132.py\u001b[0m in \u001b[0;36m<module>\u001b[0;34m\u001b[0m\n\u001b[0;32m----> 1\u001b[0;31m \u001b[0mfatiamento_nome\u001b[0m\u001b[0;34m[\u001b[0m\u001b[0;36m2\u001b[0m\u001b[0;34m]\u001b[0m \u001b[0;34m=\u001b[0m \u001b[0;34m\"joao\"\u001b[0m\u001b[0;34m\u001b[0m\u001b[0;34m\u001b[0m\u001b[0m\n\u001b[0m\u001b[1;32m      2\u001b[0m \u001b[0mfatiamento_nome\u001b[0m\u001b[0;34m\u001b[0m\u001b[0;34m\u001b[0m\u001b[0m\n",
      "\u001b[0;31mTypeError\u001b[0m: 'tuple' object does not support item assignment"
     ]
    }
   ],
   "source": [
    "fatiamento_nome[2] = \"joao\"\n",
    "fatiamento_nome"
   ]
  },
  {
   "cell_type": "code",
   "execution_count": 49,
   "metadata": {},
   "outputs": [
    {
     "name": "stdout",
     "output_type": "stream",
     "text": [
      "e\n",
      "E\n",
      "s\n",
      "S\n",
      "t\n",
      "T\n",
      "e\n",
      "E\n",
      "v\n",
      "V\n",
      "â\n",
      "Â\n",
      "o\n",
      "O\n"
     ]
    }
   ],
   "source": [
    "for fat in fatiamento_nome:\n",
    "    print(fat.lower())\n",
    "    print(fat.upper())\n"
   ]
  },
  {
   "cell_type": "code",
   "execution_count": null,
   "metadata": {},
   "outputs": [],
   "source": []
  }
 ],
 "metadata": {
  "kernelspec": {
   "display_name": "base",
   "language": "python",
   "name": "python3"
  },
  "language_info": {
   "codemirror_mode": {
    "name": "ipython",
    "version": 3
   },
   "file_extension": ".py",
   "mimetype": "text/x-python",
   "name": "python",
   "nbconvert_exporter": "python",
   "pygments_lexer": "ipython3",
   "version": "3.9.13"
  }
 },
 "nbformat": 4,
 "nbformat_minor": 2
}
