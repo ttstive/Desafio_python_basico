{
 "cells": [
  {
   "cell_type": "code",
   "execution_count": 4,
   "metadata": {},
   "outputs": [
    {
     "data": {
      "text/plain": [
       "[0, 1, 2, 3, 4, 5, 6, 7, 8, 9, 10, 11, 12, 13, 14, 15, 16, 17, 18, 19]"
      ]
     },
     "execution_count": 4,
     "metadata": {},
     "output_type": "execute_result"
    }
   ],
   "source": [
    "lista = [3, 34, \"kagor\"]\n",
    "tupla = [\"maca\", \"cadeira\", \"Jogador\"]\n",
    "tipo = list(range(20))\n",
    "\n",
    "tipo\n"
   ]
  },
  {
   "cell_type": "code",
   "execution_count": 5,
   "metadata": {},
   "outputs": [
    {
     "data": {
      "text/plain": [
       "['maca', 'cadeira', 'Jogador']"
      ]
     },
     "execution_count": 5,
     "metadata": {},
     "output_type": "execute_result"
    }
   ],
   "source": [
    "tupla"
   ]
  },
  {
   "cell_type": "code",
   "execution_count": 6,
   "metadata": {},
   "outputs": [
    {
     "data": {
      "text/plain": [
       "{3, 34, 'kagor'}"
      ]
     },
     "execution_count": 6,
     "metadata": {},
     "output_type": "execute_result"
    }
   ],
   "source": [
    "lista"
   ]
  },
  {
   "cell_type": "code",
   "execution_count": 10,
   "metadata": {},
   "outputs": [
    {
     "data": {
      "text/plain": [
       "'A'"
      ]
     },
     "execution_count": 10,
     "metadata": {},
     "output_type": "execute_result"
    }
   ],
   "source": [
    "matriz = [\n",
    "    [1, \"A\", 3],\n",
    "    [1, \"A\", 3],\n",
    "    [1, \"A\", 3]\n",
    "    ]\n",
    "\n",
    "matriz[0]\n"
   ]
  },
  {
   "cell_type": "code",
   "execution_count": 11,
   "metadata": {},
   "outputs": [
    {
     "data": {
      "text/plain": [
       "3"
      ]
     },
     "execution_count": 11,
     "metadata": {},
     "output_type": "execute_result"
    }
   ],
   "source": [
    "matriz[0][2]\n"
   ]
  },
  {
   "cell_type": "code",
   "execution_count": 12,
   "metadata": {},
   "outputs": [
    {
     "data": {
      "text/plain": [
       "3"
      ]
     },
     "execution_count": 12,
     "metadata": {},
     "output_type": "execute_result"
    }
   ],
   "source": [
    "matriz[0][-1]\n"
   ]
  },
  {
   "cell_type": "code",
   "execution_count": 13,
   "metadata": {},
   "outputs": [
    {
     "data": {
      "text/plain": [
       "'A'"
      ]
     },
     "execution_count": 13,
     "metadata": {},
     "output_type": "execute_result"
    }
   ],
   "source": [
    "matriz[-1][1]\n"
   ]
  },
  {
   "cell_type": "code",
   "execution_count": 15,
   "metadata": {},
   "outputs": [
    {
     "name": "stdout",
     "output_type": "stream",
     "text": [
      "['p', 'y']\n",
      "['t', 'h', 'o', 'n', '', '3']\n",
      "[]\n",
      "['p']\n",
      "['p', 'y', 't', 'h', 'o', 'n', '']\n",
      "['p', 'y', 't', 'h', 'o', 'n', '', '3']\n"
     ]
    }
   ],
   "source": [
    "## fatiamento de lista\n",
    "\n",
    "lista = [\"p\",\"y\",\"t\",\"h\",\"o\",\"n\",\"\",\"3\"]\n",
    "\n",
    "print(lista[:2])\n",
    "print(lista[2:])\n",
    "print(lista[-1:2])\n",
    "print(lista[0:2:3])\n",
    "print(lista[:-1])\n",
    "print(lista[:])\n",
    "\n"
   ]
  },
  {
   "cell_type": "code",
   "execution_count": 31,
   "metadata": {},
   "outputs": [
    {
     "name": "stdout",
     "output_type": "stream",
     "text": [
      "0 gol\n",
      "1 palio\n",
      "2 hrv\n",
      "3 hilux\n"
     ]
    }
   ],
   "source": [
    "##leitura de dados\n",
    "\n",
    "carros = [\"gol\", \"palio\", \"hrv\", \"hilux\"]\n",
    "\n",
    "for indice,carro in enumerate(carros):\n",
    "    print(indice, carro)\n",
    "   \n",
    "    "
   ]
  },
  {
   "cell_type": "code",
   "execution_count": 32,
   "metadata": {},
   "outputs": [
    {
     "name": "stdout",
     "output_type": "stream",
     "text": [
      "[2, 64, 2, 22, 14, 4, 6, 8, 56, 2010]\n",
      "[1, 3, 45, 3, 3, 3, 3, 1, 5, 87, 87, 9]\n"
     ]
    }
   ],
   "source": [
    "numbers = [1,2,3,45,64,3,3,3,3,2,1,22,14,4,5,6,8,87,87,9,56,2010]\n",
    "pares = []\n",
    "impares = []\n",
    "\n",
    "for num in numbers:\n",
    "    if num % 2 == 0:\n",
    "        pares.append(num)\n",
    "    else:\n",
    "        impares.append(num)\n",
    "\n",
    "print(pares)\n",
    "print(impares)\n",
    "        "
   ]
  },
  {
   "cell_type": "code",
   "execution_count": 34,
   "metadata": {},
   "outputs": [
    {
     "data": {
      "text/plain": [
       "[2, 64, 2, 22, 14, 4, 6, 8, 56, 2010]"
      ]
     },
     "execution_count": 34,
     "metadata": {},
     "output_type": "execute_result"
    }
   ],
   "source": [
    "## com list comprehension\n",
    "\n",
    "pares = [numero for numero in numbers if numero % 2 == 0]\n",
    "pares"
   ]
  },
  {
   "cell_type": "code",
   "execution_count": 7,
   "metadata": {},
   "outputs": [
    {
     "name": "stdout",
     "output_type": "stream",
     "text": [
      "140171968574720\n",
      "140171828434112\n",
      "[1, 23, 45, 'Estevão', 'luiz', 123, [40, 30, 29]]\n"
     ]
    }
   ],
   "source": [
    "## FUNCOES NATIVAS DA LISTA EM PY \n",
    "\n",
    "dados = [1,23,45,\"Estevão\", \"luiz\",123, [40,30,29]]\n",
    "l1 = dados.copy()\n",
    "print(id(dados))\n",
    "print(id(l1))\n",
    "print(l1)"
   ]
  },
  {
   "cell_type": "code",
   "execution_count": 15,
   "metadata": {},
   "outputs": [
    {
     "name": "stdout",
     "output_type": "stream",
     "text": [
      "[12, 12, 12, 13, 'nome', 'idade', 'cidade']\n"
     ]
    }
   ],
   "source": [
    "## merge de listas\n",
    "\n",
    "merge = [12, 12, 12 , 13]\n",
    "merge2 = [ \"nome\", \"idade\",\"cidade\"]\n",
    "merge.extend([ \"nome\", \"idade\",\"cidade\"])\n",
    "print(merge)"
   ]
  },
  {
   "cell_type": "code",
   "execution_count": 13,
   "metadata": {},
   "outputs": [
    {
     "name": "stdout",
     "output_type": "stream",
     "text": [
      "None\n"
     ]
    }
   ],
   "source": [
    "print(merge_total)"
   ]
  },
  {
   "cell_type": "code",
   "execution_count": 22,
   "metadata": {},
   "outputs": [
    {
     "name": "stdout",
     "output_type": "stream",
     "text": [
      "[12, 12, 12]\n"
     ]
    }
   ],
   "source": [
    "## popé um metodo de identificação pela remoção do ultimo elemento da lista\n",
    "pilha = [12, 12, 12 , 13]\n",
    "pilha.pop()\n",
    "print(pilha)"
   ]
  },
  {
   "cell_type": "code",
   "execution_count": 23,
   "metadata": {},
   "outputs": [
    {
     "name": "stdout",
     "output_type": "stream",
     "text": [
      "[12, 12, 12]\n"
     ]
    }
   ],
   "source": [
    "\n",
    "print(pilha)"
   ]
  },
  {
   "cell_type": "code",
   "execution_count": 28,
   "metadata": {},
   "outputs": [
    {
     "name": "stdout",
     "output_type": "stream",
     "text": [
      "None\n"
     ]
    }
   ],
   "source": [
    "sorting = [1,2,3,4,65,5,8,10]\n",
    "sorting.sort()\n",
    "print(sorting.sort(reverse=True))"
   ]
  },
  {
   "cell_type": "code",
   "execution_count": 29,
   "metadata": {},
   "outputs": [
    {
     "name": "stdout",
     "output_type": "stream",
     "text": [
      "[65, 10, 8, 5, 4, 3, 2, 1]\n"
     ]
    }
   ],
   "source": [
    "print(sorting)"
   ]
  },
  {
   "cell_type": "code",
   "execution_count": 32,
   "metadata": {},
   "outputs": [
    {
     "name": "stdout",
     "output_type": "stream",
     "text": [
      "['C', 'Lua', 'PHP', 'Java', 'Python']\n",
      "['Python', 'Java', 'Lua', 'PHP', 'C']\n"
     ]
    }
   ],
   "source": [
    "variadas = [\"C\",\"Java\",\"Lua\",\"Python\", \"PHP\"]\n",
    "print(sorted(variadas, key= lambda x: len(x)))\n",
    "print(sorted(variadas, key= lambda x: len(x), reverse= True))"
   ]
  },
  {
   "cell_type": "code",
   "execution_count": 34,
   "metadata": {},
   "outputs": [
    {
     "name": "stdout",
     "output_type": "stream",
     "text": [
      "0\n",
      "2\n",
      "4\n",
      "6\n",
      "8\n",
      "0\n",
      "2\n",
      "4\n",
      "6\n",
      "8\n",
      "0\n",
      "2\n",
      "4\n",
      "6\n",
      "8\n",
      "0\n",
      "2\n",
      "4\n",
      "6\n",
      "8\n",
      "0\n",
      "2\n",
      "4\n",
      "6\n",
      "8\n",
      "0\n",
      "2\n",
      "4\n",
      "6\n",
      "8\n",
      "0\n",
      "2\n",
      "4\n",
      "6\n",
      "8\n",
      "49\n",
      "64\n",
      "81\n"
     ]
    }
   ],
   "source": [
    "numeros = [0,1,2,3,4,5,6,7,8,9]\n",
    "\n",
    "for numero in numeros:\n",
    "    if numero > 6:\n",
    "      print(numero**2)\n",
    "    \n",
    "    else:\n",
    "         for numero in range(10):\n",
    "            if numero % 2 == 0:\n",
    "                print(numero)"
   ]
  },
  {
   "cell_type": "markdown",
   "metadata": {},
   "source": [
    "## Dicionarios em py"
   ]
  },
  {
   "cell_type": "code",
   "execution_count": 9,
   "metadata": {},
   "outputs": [
    {
     "data": {
      "text/plain": [
       "{'nome': 'jose', 'idade': 21}"
      ]
     },
     "execution_count": 9,
     "metadata": {},
     "output_type": "execute_result"
    }
   ],
   "source": [
    "pessoa = {\"nome\":\"guilherme\", \"idade\": 18}\n",
    "pessoa[\"nome\"] = \"jose\"\n",
    "pessoa[\"idade\"] = 21\n",
    "pessoa"
   ]
  },
  {
   "cell_type": "code",
   "execution_count": 69,
   "metadata": {},
   "outputs": [
    {
     "name": "stdout",
     "output_type": "stream",
     "text": [
      "Brasil\n",
      "['Rio de Janeiro', 'São Paulo', 'Brasília', 'Salvador', 'Fortaleza']\n",
      "Estados Unidos\n",
      "['Nova York', 'Los Angeles', 'Chicago', 'Miami', 'Las Vegas']\n",
      "França\n",
      "['Paris', 'Marselha', 'Lyon', 'Bordeaux', 'Nice']\n",
      "Japão\n",
      "['Tóquio', 'Osaka', 'Yokohama', 'Kyoto', 'Hiroshima']\n",
      "Austrália\n",
      "['Sydney', 'Melbourne', 'Brisbane', 'Perth', 'Adelaide']\n"
     ]
    }
   ],
   "source": [
    "paises_cidades = {\n",
    "    \"Brasil\": [\"Rio de Janeiro\", \"São Paulo\", \"Brasília\", \"Salvador\", \"Fortaleza\"],\n",
    "    \"Estados Unidos\": [\"Nova York\", \"Los Angeles\", \"Chicago\", \"Miami\", \"Las Vegas\"],\n",
    "    \"França\": [\"Paris\", \"Marselha\", \"Lyon\", \"Bordeaux\", \"Nice\"],\n",
    "    \"Japão\": [\"Tóquio\", \"Osaka\", \"Yokohama\", \"Kyoto\", \"Hiroshima\"],\n",
    "    \"Austrália\": [\"Sydney\", \"Melbourne\", \"Brisbane\", \"Perth\", \"Adelaide\"]}\n",
    "\n",
    "for cidades in paises_cidades.items():\n",
    "    for cidade in cidades:\n",
    "        print(cidade)\n",
    "    "
   ]
  },
  {
   "cell_type": "code",
   "execution_count": 70,
   "metadata": {},
   "outputs": [
    {
     "data": {
      "text/plain": [
       "{'nome': None, 'idade': None, 'telefone': None}"
      ]
     },
     "execution_count": 70,
     "metadata": {},
     "output_type": "execute_result"
    }
   ],
   "source": [
    "dict.fromkeys([\"nome\", \"idade\", \"telefone\"])"
   ]
  },
  {
   "cell_type": "code",
   "execution_count": 33,
   "metadata": {},
   "outputs": [
    {
     "data": {
      "text/plain": [
       "{'nome': ['nadinha'], 'idade': ['nadinha'], 'telefone': ['nadinha']}"
      ]
     },
     "execution_count": 33,
     "metadata": {},
     "output_type": "execute_result"
    }
   ],
   "source": [
    "dict.fromkeys([\"nome\", \"idade\", \"telefone\"], [\"nadinha\"])"
   ]
  },
  {
   "cell_type": "code",
   "execution_count": 35,
   "metadata": {},
   "outputs": [
    {
     "data": {
      "text/plain": [
       "['Tóquio', 'Osaka', 'Yokohama', 'Kyoto', 'Hiroshima']"
      ]
     },
     "execution_count": 35,
     "metadata": {},
     "output_type": "execute_result"
    }
   ],
   "source": [
    "paises_cidades.get(\"Japão\", {})"
   ]
  },
  {
   "cell_type": "code",
   "execution_count": 36,
   "metadata": {},
   "outputs": [
    {
     "data": {
      "text/plain": [
       "dict_keys(['Brasil', 'Estados Unidos', 'França', 'Japão', 'Austrália'])"
      ]
     },
     "execution_count": 36,
     "metadata": {},
     "output_type": "execute_result"
    }
   ],
   "source": [
    "paises_cidades.keys()"
   ]
  },
  {
   "cell_type": "code",
   "execution_count": 37,
   "metadata": {},
   "outputs": [
    {
     "data": {
      "text/plain": [
       "['Tóquio', 'Osaka', 'Yokohama', 'Kyoto', 'Hiroshima']"
      ]
     },
     "execution_count": 37,
     "metadata": {},
     "output_type": "execute_result"
    }
   ],
   "source": [
    "paises_cidades.pop(\"Japão\")"
   ]
  },
  {
   "cell_type": "code",
   "execution_count": 71,
   "metadata": {},
   "outputs": [
    {
     "data": {
      "text/plain": [
       "{'Brasil': ['Rio de Janeiro',\n",
       "  'São Paulo',\n",
       "  'Brasília',\n",
       "  'Salvador',\n",
       "  'Fortaleza'],\n",
       " 'Estados Unidos': ['Nova York',\n",
       "  'Los Angeles',\n",
       "  'Chicago',\n",
       "  'Miami',\n",
       "  'Las Vegas'],\n",
       " 'França': ['Paris', 'Marselha', 'Lyon', 'Bordeaux', 'Nice'],\n",
       " 'Japão': ['Tóquio', 'Osaka', 'Yokohama', 'Kyoto', 'Hiroshima'],\n",
       " 'Austrália': ['Sydney', 'Melbourne', 'Brisbane', 'Perth', 'Adelaide']}"
      ]
     },
     "execution_count": 71,
     "metadata": {},
     "output_type": "execute_result"
    }
   ],
   "source": [
    "paises_cidades"
   ]
  },
  {
   "cell_type": "code",
   "execution_count": 72,
   "metadata": {},
   "outputs": [],
   "source": [
    "cidades = paises_cidades.update({\"Brasil\": [\"Rio de Janeiro\", \"São Paulo\", \"Brasília\", \"Salvador\", \"Fortaleza\"],\n",
    "    \"Estados Unidos\": [\"Nova York\", \"Los Angeles\", \"Chicago\", \"Miami\", \"Las Vegas\"],\n",
    "    \"França\": [\"Paris\", \"Marselha\", \"Lyon\", \"Bordeaux\", \"Nice\"],\n",
    "    \"Japão\": [\"Tóquio\", \"Osaka\", \"Yokohama\", \"Kyoto\", \"Hiroshima\"],\n",
    "    \"Austrália\": [\"Sydney\", \"Melbourne\", \"Brisbane\", \"Perth\", \"Adelaide\"]})"
   ]
  },
  {
   "cell_type": "code",
   "execution_count": 75,
   "metadata": {},
   "outputs": [],
   "source": [
    "import pandas as pd\n",
    "\n",
    "paises_cidades.values()\n",
    "cidades = pd.DataFrame(paises_cidades)"
   ]
  },
  {
   "cell_type": "code",
   "execution_count": 80,
   "metadata": {},
   "outputs": [
    {
     "data": {
      "text/plain": [
       "Brasília          1\n",
       "Fortaleza         1\n",
       "Rio de Janeiro    1\n",
       "Salvador          1\n",
       "São Paulo         1\n",
       "dtype: int64"
      ]
     },
     "execution_count": 80,
     "metadata": {},
     "output_type": "execute_result"
    }
   ],
   "source": [
    "cidades.value_counts(paises_cidades[\"Brasil\"])"
   ]
  },
  {
   "cell_type": "code",
   "execution_count": 81,
   "metadata": {},
   "outputs": [
    {
     "data": {
      "text/html": [
       "<div>\n",
       "<style scoped>\n",
       "    .dataframe tbody tr th:only-of-type {\n",
       "        vertical-align: middle;\n",
       "    }\n",
       "\n",
       "    .dataframe tbody tr th {\n",
       "        vertical-align: top;\n",
       "    }\n",
       "\n",
       "    .dataframe thead th {\n",
       "        text-align: right;\n",
       "    }\n",
       "</style>\n",
       "<table border=\"1\" class=\"dataframe\">\n",
       "  <thead>\n",
       "    <tr style=\"text-align: right;\">\n",
       "      <th></th>\n",
       "      <th>Brasil</th>\n",
       "      <th>Estados Unidos</th>\n",
       "      <th>França</th>\n",
       "      <th>Japão</th>\n",
       "      <th>Austrália</th>\n",
       "    </tr>\n",
       "  </thead>\n",
       "  <tbody>\n",
       "    <tr>\n",
       "      <th>0</th>\n",
       "      <td>Rio de Janeiro</td>\n",
       "      <td>Nova York</td>\n",
       "      <td>Paris</td>\n",
       "      <td>Tóquio</td>\n",
       "      <td>Sydney</td>\n",
       "    </tr>\n",
       "    <tr>\n",
       "      <th>1</th>\n",
       "      <td>São Paulo</td>\n",
       "      <td>Los Angeles</td>\n",
       "      <td>Marselha</td>\n",
       "      <td>Osaka</td>\n",
       "      <td>Melbourne</td>\n",
       "    </tr>\n",
       "    <tr>\n",
       "      <th>2</th>\n",
       "      <td>Brasília</td>\n",
       "      <td>Chicago</td>\n",
       "      <td>Lyon</td>\n",
       "      <td>Yokohama</td>\n",
       "      <td>Brisbane</td>\n",
       "    </tr>\n",
       "    <tr>\n",
       "      <th>3</th>\n",
       "      <td>Salvador</td>\n",
       "      <td>Miami</td>\n",
       "      <td>Bordeaux</td>\n",
       "      <td>Kyoto</td>\n",
       "      <td>Perth</td>\n",
       "    </tr>\n",
       "    <tr>\n",
       "      <th>4</th>\n",
       "      <td>Fortaleza</td>\n",
       "      <td>Las Vegas</td>\n",
       "      <td>Nice</td>\n",
       "      <td>Hiroshima</td>\n",
       "      <td>Adelaide</td>\n",
       "    </tr>\n",
       "  </tbody>\n",
       "</table>\n",
       "</div>"
      ],
      "text/plain": [
       "           Brasil Estados Unidos    França      Japão  Austrália\n",
       "0  Rio de Janeiro      Nova York     Paris     Tóquio     Sydney\n",
       "1       São Paulo    Los Angeles  Marselha      Osaka  Melbourne\n",
       "2        Brasília        Chicago      Lyon   Yokohama   Brisbane\n",
       "3        Salvador          Miami  Bordeaux      Kyoto      Perth\n",
       "4       Fortaleza      Las Vegas      Nice  Hiroshima   Adelaide"
      ]
     },
     "execution_count": 81,
     "metadata": {},
     "output_type": "execute_result"
    }
   ],
   "source": [
    "cidades"
   ]
  },
  {
   "cell_type": "code",
   "execution_count": 83,
   "metadata": {},
   "outputs": [
    {
     "ename": "TypeError",
     "evalue": "unhashable type: 'DataFrame'",
     "output_type": "error",
     "traceback": [
      "\u001b[0;31m---------------------------------------------------------------------------\u001b[0m",
      "\u001b[0;31mTypeError\u001b[0m                                 Traceback (most recent call last)",
      "\u001b[0;32m/tmp/ipykernel_38695/1641379775.py\u001b[0m in \u001b[0;36m<module>\u001b[0;34m\u001b[0m\n\u001b[0;32m----> 1\u001b[0;31m \u001b[0mcidades\u001b[0m \u001b[0;32min\u001b[0m \u001b[0mpaises_cidades\u001b[0m\u001b[0;34m\u001b[0m\u001b[0;34m\u001b[0m\u001b[0m\n\u001b[0m",
      "\u001b[0;31mTypeError\u001b[0m: unhashable type: 'DataFrame'"
     ]
    }
   ],
   "source": [
    "cidades in paises_cidades"
   ]
  },
  {
   "cell_type": "markdown",
   "metadata": {},
   "source": [
    "## Funções em Python"
   ]
  },
  {
   "cell_type": "code",
   "execution_count": 2,
   "metadata": {},
   "outputs": [
    {
     "name": "stdout",
     "output_type": "stream",
     "text": [
      "hello world\n"
     ]
    }
   ],
   "source": [
    "def exibe_mensagem():\n",
    "    print(\"hello world\")\n",
    "\n",
    "exibe_mensagem()"
   ]
  },
  {
   "cell_type": "code",
   "execution_count": 3,
   "metadata": {},
   "outputs": [
    {
     "name": "stdout",
     "output_type": "stream",
     "text": [
      "esse é o num10\n"
     ]
    }
   ],
   "source": [
    "def exibir_valor(num):\n",
    "    print(\"esse é o num{}\".format(num))\n",
    "\n",
    "exibir_valor(num=10)"
   ]
  },
  {
   "cell_type": "code",
   "execution_count": 8,
   "metadata": {},
   "outputs": [
    {
     "name": "stdout",
     "output_type": "stream",
     "text": [
      "350\n"
     ]
    }
   ],
   "source": [
    "def calcular(numeros):\n",
    "    return sum(numeros)\n",
    "\n",
    "print(calcular([10,20,20,100,200]))"
   ]
  },
  {
   "cell_type": "code",
   "execution_count": 13,
   "metadata": {},
   "outputs": [
    {
     "name": "stdout",
     "output_type": "stream",
     "text": [
      "(-1, 1)\n"
     ]
    }
   ],
   "source": [
    "def antecessores_sucessores(numero):\n",
    "    antecessor = numero -1\n",
    "    sucessor = numero +1\n",
    "    return antecessor, sucessor\n",
    "\n",
    "print(antecessores_sucessores(0))"
   ]
  },
  {
   "cell_type": "code",
   "execution_count": 36,
   "metadata": {},
   "outputs": [
    {
     "name": "stdout",
     "output_type": "stream",
     "text": [
      "(2010, 'sksa', 'asids', 'OKI1010')\n"
     ]
    }
   ],
   "source": [
    "def dados_carros(ano, modelo, marca,placa):\n",
    "    return ano, modelo, marca,placa\n",
    "\n",
    "\n",
    "ano = int(input())\n",
    "marca = str(input())\n",
    "modelo = str(input())\n",
    "placa = str(input()).upper()\n",
    "\n",
    "\n",
    "\n",
    "\n",
    "print(dados_carros(ano,modelo,marca,placa))\n",
    "\n",
    "\n",
    "\n",
    "    \n",
    "\n"
   ]
  },
  {
   "cell_type": "code",
   "execution_count": 26,
   "metadata": {},
   "outputs": [
    {
     "ename": "NameError",
     "evalue": "name 'modelo' is not defined",
     "output_type": "error",
     "traceback": [
      "\u001b[0;31m---------------------------------------------------------------------------\u001b[0m",
      "\u001b[0;31mNameError\u001b[0m                                 Traceback (most recent call last)",
      "\u001b[0;32m/tmp/ipykernel_20953/4164845365.py\u001b[0m in \u001b[0;36m<module>\u001b[0;34m\u001b[0m\n\u001b[0;32m----> 1\u001b[0;31m \u001b[0mprint\u001b[0m\u001b[0;34m(\u001b[0m\u001b[0mdados_carros\u001b[0m\u001b[0;34m(\u001b[0m\u001b[0mmodelo\u001b[0m\u001b[0;34m)\u001b[0m\u001b[0;34m)\u001b[0m\u001b[0;34m\u001b[0m\u001b[0;34m\u001b[0m\u001b[0m\n\u001b[0m",
      "\u001b[0;31mNameError\u001b[0m: name 'modelo' is not defined"
     ]
    }
   ],
   "source": [
    "print(dados_carros(modelo))"
   ]
  },
  {
   "cell_type": "code",
   "execution_count": null,
   "metadata": {},
   "outputs": [],
   "source": [
    "## Função de exibir poema\n",
    "\n",
    "def exibirPoema(texto_extenso, *args, **kwargs):\n",
    "    texto = \"\\n\".join(args)\n",
    "    meta_dados = \"\\n\".join([\"f{chave.title()}: {valor}\" for chave, valor in kwargs.items()])\n",
    "    mensagem = \"f{texto_extenso}\\n\\n{texto}\"\n",
    "\n",
    "    B"
   ]
  },
  {
   "cell_type": "code",
   "execution_count": 3,
   "metadata": {},
   "outputs": [
    {
     "data": {
      "text/plain": [
       "4000"
      ]
     },
     "execution_count": 3,
     "metadata": {},
     "output_type": "execute_result"
    }
   ],
   "source": [
    "salario = 2000\n",
    "def acrescimoBonus(bonus):\n",
    "    global salario\n",
    "    salario += bonus\n",
    "    return salario\n",
    "\n",
    "acrescimoBonus(2000)\n"
   ]
  },
  {
   "cell_type": "code",
   "execution_count": 4,
   "metadata": {},
   "outputs": [
    {
     "name": "stdout",
     "output_type": "stream",
     "text": [
      "[1, 2, 3]\n"
     ]
    }
   ],
   "source": [
    "lista = [1,2]\n",
    "\n",
    "lista_aux = lista\n",
    "lista_aux.append(3)\n",
    "print(lista_aux)"
   ]
  },
  {
   "cell_type": "code",
   "execution_count": 9,
   "metadata": {},
   "outputs": [
    {
     "name": "stdout",
     "output_type": "stream",
     "text": [
      "Inseto!\n",
      "Mais de 8000!\n",
      "Mais de 8000!\n",
      "Inseto!\n"
     ]
    }
   ],
   "source": [
    "Casos = 4\n",
    "\n",
    "\n",
    "for casos in range(Casos):\n",
    "    N = int(input())\n",
    "    if N > 8000:\n",
    "        print(\"Mais de 8000!\")\n",
    "    else:\n",
    "        print(\"Inseto!\")"
   ]
  },
  {
   "cell_type": "code",
   "execution_count": 14,
   "metadata": {},
   "outputs": [
    {
     "name": "stdout",
     "output_type": "stream",
     "text": [
      "3\n",
      "3\n",
      "4\n"
     ]
    }
   ],
   "source": [
    "T = int(input())  # Lê o número de casos de teste\n",
    "\n",
    "for i in range(T):\n",
    "    N = int(input())  # Lê o valor de N\n",
    "    K = int(input())  # Lê o valor de K\n",
    "    \n",
    "    novoN = 1  # Inicializa novoN com 1\n",
    "    novoK = 1  # Inicializa novoK com 1\n",
    "    \n",
    "    novoN += N  # Atualiza novoN somando o valor de N\n",
    "    novoK += K  # Atualiza novoK somando o valor de K\n",
    "\n",
    "    if 0 < K <= 10000:  # Verifica se K está entre 0 e 10000\n",
    "        print(novoK)\n",
    "    elif 0 < N <= 10000:  # Verifica se N está entre 0 e 10000\n",
    "        print(novoN)\n",
    "    else:\n",
    "        break  # Encerra o loop se N ou K estiverem fora do intervalo desejado\n",
    "\n",
    "\n"
   ]
  },
  {
   "cell_type": "code",
   "execution_count": null,
   "metadata": {},
   "outputs": [],
   "source": []
  }
 ],
 "metadata": {
  "kernelspec": {
   "display_name": "base",
   "language": "python",
   "name": "python3"
  },
  "language_info": {
   "codemirror_mode": {
    "name": "ipython",
    "version": 3
   },
   "file_extension": ".py",
   "mimetype": "text/x-python",
   "name": "python",
   "nbconvert_exporter": "python",
   "pygments_lexer": "ipython3",
   "version": "3.9.13"
  }
 },
 "nbformat": 4,
 "nbformat_minor": 2
}
